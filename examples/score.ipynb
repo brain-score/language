{
 "cells": [
  {
   "cell_type": "markdown",
   "metadata": {
    "collapsed": true
   },
   "source": [
    "You can run an existing model on an existing benchmark by calling a single function."
   ]
  },
  {
   "cell_type": "code",
   "execution_count": 2,
   "outputs": [
    {
     "name": "stdout",
     "output_type": "stream",
     "text": [
      "<xarray.Score ()>\n",
      "array(0.36144805)\n",
      "Attributes:\n",
      "    raw:                   <xarray.Score ()>\\narray(0.31013797)\\nAttributes:\\...\n",
      "    ceiling:               <xarray.Score ()>\\narray(0.85804302)\\nAttributes:\\...\n",
      "    model_identifier:      distilgpt2\n",
      "    benchmark_identifier:  Futrell2018-pearsonr\n"
     ]
    }
   ],
   "source": [
    "from brainscore_language import score\n",
    "\n",
    "model_score = score(model_identifier='distilgpt2', benchmark_identifier='Futrell2018-pearsonr')\n",
    "print(model_score)"
   ],
   "metadata": {
    "collapsed": false
   }
  },
  {
   "cell_type": "markdown",
   "source": [
    "The resulting `model_score` holds the normalized similarity between the given model on the given benchmark,\n",
    "and additionally contains more detailed information, e.g. about per-"
   ],
   "metadata": {
    "collapsed": false
   }
  },
  {
   "cell_type": "code",
   "execution_count": null,
   "outputs": [],
   "source": [
    "print(model_score.raw.raw)"
   ],
   "metadata": {
    "collapsed": false,
    "pycharm": {
     "is_executing": true
    }
   }
  }
 ],
 "metadata": {
  "kernelspec": {
   "display_name": "Python 3",
   "language": "python",
   "name": "python3"
  },
  "language_info": {
   "codemirror_mode": {
    "name": "ipython",
    "version": 2
   },
   "file_extension": ".py",
   "mimetype": "text/x-python",
   "name": "python",
   "nbconvert_exporter": "python",
   "pygments_lexer": "ipython2",
   "version": "2.7.6"
  }
 },
 "nbformat": 4,
 "nbformat_minor": 0
}
