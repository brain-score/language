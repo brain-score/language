{
 "cells": [
  {
   "cell_type": "markdown",
   "metadata": {
    "collapsed": true
   },
   "source": [
    "You can run an existing model on an existing benchmark by calling a single function, e.g. here a `distilgpt2` on the behavioral reading-times benchmark `Futrell2018-pearsonr`. (The below output was run on a GPU, it takes ~1-2 hours on CPU to run all the text on the model.)"
   ]
  },
  {
   "cell_type": "code",
   "execution_count": 1,
   "outputs": [
    {
     "name": "stderr",
     "output_type": "stream",
     "text": [
      "digest text: 100%|██████████████████████████████████████████| 10256/10256 [10:41<00:00, 15.98it/s]\n"
     ]
    },
    {
     "name": "stdout",
     "output_type": "stream",
     "text": [
      "<xarray.Score ()>\n",
      "array(0.36144805)\n",
      "Attributes:\n",
      "    raw:                   <xarray.Score ()>\\narray(0.31013797)\\nAttributes:\\...\n",
      "    ceiling:               <xarray.Score ()>\\narray(0.85804302)\\nAttributes:\\...\n",
      "    model_identifier:      distilgpt2\n",
      "    benchmark_identifier:  Futrell2018-pearsonr\n"
     ]
    }
   ],
   "source": [
    "from brainscore_language import score\n",
    "\n",
    "model_score = score(model_identifier='distilgpt2', benchmark_identifier='Futrell2018-pearsonr')\n",
    "print(model_score)"
   ],
   "metadata": {
    "collapsed": false
   }
  },
  {
   "cell_type": "markdown",
   "source": [
    "The resulting `model_score` holds the normalized similarity between the given model on the given benchmark,\n",
    "and additionally contains more detailed information, e.g. about the correlation p-value:"
   ],
   "metadata": {
    "collapsed": false
   }
  },
  {
   "cell_type": "code",
   "execution_count": 3,
   "outputs": [
    {
     "name": "stdout",
     "output_type": "stream",
     "text": [
      "<xarray.Score ()>\n",
      "array(0.31013797)\n",
      "Attributes:\n",
      "    rvalue:   0.3101379732378277\n",
      "    pvalue:   6.256311048629408e-217\n"
     ]
    }
   ],
   "source": [
    "print(model_score.raw)"
   ],
   "metadata": {
    "collapsed": false
   }
  },
  {
   "cell_type": "markdown",
   "source": [
    "We can also run e.g. an embedding model `glove-840b` on a neural benchmark `Pereira2018.243sentences-linear`:"
   ],
   "metadata": {
    "collapsed": false
   }
  },
  {
   "cell_type": "code",
   "execution_count": 4,
   "outputs": [
    {
     "name": "stderr",
     "output_type": "stream",
     "text": [
      "Word habitats. not present in model\n",
      "Word beekeeper's not present in model\n",
      "Word pollen. not present in model\n",
      "Word agriculture, not present in model\n",
      "Word crops. not present in model\n",
      "Word crops, not present in model\n",
      "Word honeybees. not present in model\n",
      "Word craft, not present in model\n",
      "Word honey-making not present in model\n",
      "Word consistency. not present in model\n",
      "Word honey, not present in model\n",
      "Word honeybees. not present in model\n",
      "Word fields, not present in model\n",
      "Word flows, not present in model\n",
      "Word hive, not present in model\n",
      "Word stores, not present in model\n",
      "Word supplies, not present in model\n",
      "Word nursery. not present in model\n",
      "Word hands, not present in model\n",
      "Word sting, not present in model\n",
      "Word they're not present in model\n",
      "Word gentle. not present in model\n",
      "Word exams, not present in model\n",
      "Word dream, not present in model\n",
      "Word assignments. not present in model\n",
      "Word morning, not present in model\n",
      "Word dreams, not present in model\n",
      "Word intensity. not present in model\n",
      "Word category, not present in model\n",
      "Word dream, not present in model\n",
      "Word dream, not present in model\n",
      "Word sleep, not present in model\n",
      "Word night, not present in model\n",
      "Word Images, not present in model\n",
      "Word feelings, not present in model\n",
      "Word stories, not present in model\n",
      "Word cards, not present in model\n",
      "Word do, not present in model\n",
      "Word $10,000 not present in model\n",
      "Word generation, not present in model\n",
      "Word gambling. not present in model\n",
      "Word lotteries, not present in model\n",
      "Word house, not present in model\n",
      "Word in, not present in model\n",
      "Word food, not present in model\n",
      "Word door, not present in model\n",
      "Word hurricane. not present in model\n",
      "Word foundation. not present in model\n",
      "Word night, not present in model\n",
      "Word house, not present in model\n",
      "Word sofa. not present in model\n",
      "Word foundations. not present in model\n",
      "Word mudslides. not present in model\n",
      "Word surge: not present in model\n",
      "Word hurricanes. not present in model\n",
      "Word lakes. not present in model\n",
      "Word world, not present in model\n",
      "Word preferences. not present in model\n",
      "Word delicacies. not present in model\n",
      "Word places, not present in model\n",
      "Word mangos. not present in model\n",
      "Word tub, not present in model\n",
      "Word couldn't not present in model\n",
      "Word harden. not present in model\n",
      "Word cream, not present in model\n",
      "Word sugar, not present in model\n",
      "Word flavorings, not present in model\n",
      "Word whipped-in not present in model\n",
      "Word silky. not present in model\n",
      "Word flavorings. not present in model\n",
      "Word mower, not present in model\n",
      "Word emissions. not present in model\n",
      "Word toaster. not present in model\n",
      "Word spacewalks. not present in model\n",
      "Word underwater. not present in model\n",
      "Word pilots, not present in model\n",
      "Word pilots. not present in model\n",
      "Word doctors, not present in model\n",
      "Word engineers, not present in model\n",
      "Word scientists, not present in model\n",
      "Word men, not present in model\n",
      "Word diverse. not present in model\n",
      "Word shuttle. not present in model\n",
      "Word telescope. not present in model\n",
      "Word pipe, not present in model\n",
      "Word widespread, not present in model\n",
      "Word cultures. not present in model\n",
      "Word procedures. not present in model\n",
      "Word patient's not present in model\n",
      "Word X-rays. not present in model\n",
      "Word broadens, not present in model\n",
      "Word classroom. not present in model\n",
      "Word cliche. not present in model\n",
      "Word all-nighter. not present in model\n",
      "Word sunrise. not present in model\n",
      "Word decades, not present in model\n",
      "Word relentlessly. not present in model\n",
      "Word 1970s. not present in model\n",
      "Word journals. not present in model\n",
      "Word theoretical, not present in model\n",
      "Word medications. not present in model\n",
      "Word vaccines. not present in model\n",
      "Word licensed. not present in model\n",
      "Word pharmacist. not present in model\n",
      "Word cliche, not present in model\n",
      "Word unemployment, not present in model\n",
      "Word stressful. not present in model\n",
      "Word stresses, not present in model\n",
      "Word stresses, not present in model\n",
      "Word effectively, not present in model\n",
      "Word though, not present in model\n",
      "Word beneficial. not present in model\n",
      "Word downsizing, not present in model\n",
      "Word reason, not present in model\n",
      "Word Then, not present in model\n",
      "Word stripes. not present in model\n",
      "Word tailored, not present in model\n",
      "Word preferred, not present in model\n",
      "Word today's not present in model\n",
      "Word attire. not present in model\n",
      "Word ties. not present in model\n",
      "Word lapels. not present in model\n",
      "Word lapels. not present in model\n",
      "Word adulthood. not present in model\n",
      "Word pianist. not present in model\n",
      "Word distractions, not present in model\n",
      "Word blindness, not present in model\n",
      "Word countries, not present in model\n",
      "Word deficiencies. not present in model\n",
      "Word supplements. not present in model\n",
      "Word countries, not present in model\n",
      "Word is, not present in model\n",
      "Word isn't not present in model\n",
      "Word good, not present in model\n",
      "Word flavors. not present in model\n",
      "Word sauce, not present in model\n",
      "Word cream, not present in model\n",
      "Word bitter. not present in model\n",
      "Word well, not present in model\n",
      "Word individuals. not present in model\n",
      "Word healing. not present in model\n",
      "Word patient's not present in model\n",
      "Word independence. not present in model\n",
      "Word society, not present in model\n",
      "Word race, not present in model\n",
      "Word spikes. not present in model\n",
      "Word doctor's not present in model\n",
      "Word afterward, not present in model\n",
      "Word fracture. not present in model\n",
      "Word fracture. not present in model\n",
      "Word fractures, not present in model\n",
      "Word fractures, not present in model\n",
      "Word wound. not present in model\n",
      "Word they're not present in model\n",
      "Word cleaned. not present in model\n",
      "Word tenderness, not present in model\n",
      "Word swelling, not present in model\n",
      "Word earlobe. not present in model\n",
      "Word symptoms, not present in model\n",
      "Word ointment. not present in model\n",
      "Word away, not present in model\n",
      "Word provider. not present in model\n",
      "Word infections. not present in model\n",
      "Word began. not present in model\n",
      "Word healing, not present in model\n",
      "Word infection. not present in model\n",
      "Word Fortunately, not present in model\n",
      "Word diagnosed. not present in model\n",
      "Word traditions. not present in model\n",
      "Word theatre, not present in model\n",
      "Word acting, not present in model\n",
      "Word scenery, not present in model\n",
      "Word orchestra. not present in model\n",
      "Word Acting, not present in model\n",
      "Word presence, not present in model\n",
      "Word critical. not present in model\n",
      "Word pure, not present in model\n",
      "Word design, not present in model\n",
      "Word importantly, not present in model\n",
      "Word painter's not present in model\n",
      "Word ago, not present in model\n",
      "Word However, not present in model\n",
      "Word work, not present in model\n",
      "Word imagery, not present in model\n",
      "Word patrons. not present in model\n",
      "Word painter, not present in model\n",
      "Word artist's not present in model\n",
      "Word information, not present in model\n",
      "Word horns. not present in model\n",
      "Word creepy, not present in model\n",
      "Word night, not present in model\n",
      "Word darkness. not present in model\n",
      "Word endangered, not present in model\n",
      "Word thriving. not present in model\n",
      "Word habitat. not present in model\n",
      "Word owl's not present in model\n",
      "Word invasion. not present in model\n",
      "Word talons. not present in model\n",
      "Word down, not present in model\n",
      "Word half-closing not present in model\n",
      "Word Overhead, not present in model\n",
      "Word prey. not present in model\n",
      "Word documentary, not present in model\n",
      "Word food-scarce not present in model\n",
      "Word slowly, not present in model\n",
      "Word bear's not present in model\n",
      "Word hunting, not present in model\n",
      "Word seal's not present in model\n",
      "Word hole, not present in model\n",
      "Word surroundings. not present in model\n",
      "Word day's not present in model\n",
      "Word attack, not present in model\n",
      "Word peasants, not present in model\n",
      "Word livestock, not present in model\n",
      "Word castle's not present in model\n",
      "Word regions. not present in model\n",
      "Word Today, not present in model\n",
      "Word villages. not present in model\n",
      "Word past, not present in model\n",
      "Word battles, not present in model\n",
      "Word intrigue. not present in model\n",
      "Word above: not present in model\n",
      "Word cliff. not present in model\n",
      "Word pyramid, not present in model\n",
      "Word entranceway. not present in model\n",
      "Word pyramid's not present in model\n",
      "Word steep, not present in model\n",
      "Word dark, not present in model\n",
      "Word Passage. not present in model\n",
      "Word thick. not present in model\n",
      "Word king, not present in model\n",
      "Word evident. not present in model\n",
      "Word gleamed. not present in model\n",
      "Word constructed. not present in model\n",
      "Word pyramid's not present in model\n",
      "Word pyramid. not present in model\n",
      "Word boulders. not present in model\n",
      "Word they're not present in model\n",
      "Word that, not present in model\n",
      "Word climbing. not present in model\n",
      "Word beginners. not present in model\n",
      "Word Free-climbing not present in model\n",
      "Word climbing. not present in model\n",
      "Word falls. not present in model\n",
      "Word slope. not present in model\n",
      "Word poles. not present in model\n",
      "Word skiing. not present in model\n",
      "Word skiing. not present in model\n",
      "Word injuries, not present in model\n",
      "Word skier's not present in model\n",
      "cross-validation: 100%|███████████████████████████████████████████| 10/10 [01:58<00:00, 11.81s/it]\n"
     ]
    },
    {
     "name": "stdout",
     "output_type": "stream",
     "text": [
      "<xarray.Score ()>\n",
      "array(0.09145686)\n",
      "Attributes:\n",
      "    raw:                   <xarray.Score ()>\\narray(0.03235646)\\nAttributes:\\...\n",
      "    ceiling:               <xarray.Score 'data' ()>\\narray(0.35378928)\\nAttri...\n",
      "    model_identifier:      glove-840b\n",
      "    benchmark_identifier:  Pereira2018.243sentences-linear\n"
     ]
    }
   ],
   "source": [
    "from brainscore_language import score\n",
    "\n",
    "model_score = score(model_identifier='glove-840b', benchmark_identifier='Pereira2018.243sentences-linear')\n",
    "print(model_score)"
   ],
   "metadata": {
    "collapsed": false
   }
  },
  {
   "cell_type": "markdown",
   "source": [
    "Similarly for neural benchmarks, we can look at more detailed information, e.g. the per-split and per-voxel predictivity. Note that `model_score.raw` is the unceiled score, and `model_score.raw.raw` are then the non-aggregated scores over splits and voxels."
   ],
   "metadata": {
    "collapsed": false
   }
  },
  {
   "cell_type": "code",
   "execution_count": 6,
   "outputs": [
    {
     "name": "stdout",
     "output_type": "stream",
     "text": [
      "<xarray.Score (split: 10, neuroid: 8031)>\n",
      "array([[ 0.42513108,  0.52778206,  0.23551865, ...,  0.07369462,\n",
      "         0.17869788,  0.24917981],\n",
      "       [ 0.10273822,  0.2861804 , -0.02766169, ...,  0.0469326 ,\n",
      "         0.02360404, -0.05820078],\n",
      "       [-0.23948403, -0.02108091,  0.31105371, ...,  0.29434947,\n",
      "         0.25932028,  0.11695163],\n",
      "       ...,\n",
      "       [-0.22690166, -0.01028696,  0.09187727, ...,  0.22437623,\n",
      "         0.27640375,  0.21633222],\n",
      "       [ 0.18170083,  0.26743796, -0.03062501, ...,  0.1174101 ,\n",
      "         0.17944168,  0.10560803],\n",
      "       [-0.07685358, -0.03484975, -0.08279409, ...,  0.150893  ,\n",
      "         0.16770998,  0.14634917]])\n",
      "Coordinates:\n",
      "  * split            (split) int64 0 1 2 3 4 5 6 7 8 9\n",
      "  * neuroid          (neuroid) MultiIndex\n",
      "  - subject          (neuroid) object '018' '018' '018' ... '426' '426' '426'\n",
      "  - voxel_num        (neuroid) int64 1001 1002 10026 10027 ... 9986 9987 9988\n",
      "  - filter_strategy  (neuroid) float64 nan nan nan nan nan ... nan nan nan nan\n",
      "  - atlas_selection  (neuroid) object 'from90to100prcnt' ... 'from90to100prcnt'\n",
      "  - roi              (neuroid) object 'LH_AntTemp' ... 'RH_PostTemp'\n",
      "  - indices_in_3d    (neuroid) int64 131599 131600 249945 ... 234883 234884\n",
      "  - col_to_coord_1   (neuroid) int64 64 65 68 69 66 67 68 ... 12 13 14 15 16 17\n",
      "  - col_to_coord_2   (neuroid) int64 51 51 29 29 51 51 30 ... 29 29 29 29 29 29\n",
      "  - col_to_coord_3   (neuroid) int64 18 18 34 34 18 18 34 ... 32 32 32 32 32 32\n",
      "  - neuroid_id       (neuroid) object '018.1001' '018.1002' ... '426.9988'\n"
     ]
    }
   ],
   "source": [
    "print(model_score.raw.raw)"
   ],
   "metadata": {
    "collapsed": false
   }
  }
 ],
 "metadata": {
  "kernelspec": {
   "display_name": "Python 3",
   "language": "python",
   "name": "python3"
  },
  "language_info": {
   "codemirror_mode": {
    "name": "ipython",
    "version": 2
   },
   "file_extension": ".py",
   "mimetype": "text/x-python",
   "name": "python",
   "nbconvert_exporter": "python",
   "pygments_lexer": "ipython2",
   "version": "2.7.6"
  }
 },
 "nbformat": 4,
 "nbformat_minor": 0
}
