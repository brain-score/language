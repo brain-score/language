{
 "cells": [
  {
   "cell_type": "markdown",
   "source": [
    "All the existing models in Brain-Score have their layers committed to certain cortical regions, e.g. such that the output of block 42 in a transformer corresponds to neural activity in the human language system.\n",
    "\n",
    "In some cases, testing individual layers of a base model is desirable, e.g. in exploratory analyses of hierarchical correspondences, or to commit layers of a new model to cortical regions.\n",
    "Note however, that ultimately all models submitted to Brain-Score must declare neural commitments, so that always the same model units are used to compare against a particular cortical brain region.\n"
   ],
   "metadata": {
    "collapsed": false
   }
  },
  {
   "cell_type": "markdown",
   "source": [
    "This example uses the HuggingfaceSubject wrapper which allows us to easily access base models, and allows to specify a mapping of regions to layers in the constructor.\n",
    "\n",
    "Let's first create a model without a layer commitment:"
   ],
   "metadata": {
    "collapsed": false
   }
  },
  {
   "cell_type": "code",
   "execution_count": 1,
   "outputs": [],
   "source": [
    "from brainscore_language.model_helpers.huggingface import HuggingfaceSubject\n",
    "from brainscore_language import ArtificialSubject\n",
    "\n",
    "model = HuggingfaceSubject(model_id='distilgpt2', region_layer_mapping={})"
   ],
   "metadata": {
    "collapsed": false
   }
  },
  {
   "cell_type": "markdown",
   "source": [
    "The `distilgpt2` model consists of 6 transformer blocks:"
   ],
   "metadata": {
    "collapsed": false
   }
  },
  {
   "cell_type": "code",
   "execution_count": 2,
   "outputs": [
    {
     "name": "stdout",
     "output_type": "stream",
     "text": [
      "GPT2LMHeadModel(\n",
      "  (transformer): GPT2Model(\n",
      "    (wte): Embedding(50257, 768)\n",
      "    (wpe): Embedding(1024, 768)\n",
      "    (drop): Dropout(p=0.1, inplace=False)\n",
      "    (h): ModuleList(\n",
      "      (0): GPT2Block(\n",
      "        (ln_1): LayerNorm((768,), eps=1e-05, elementwise_affine=True)\n",
      "        (attn): GPT2Attention(\n",
      "          (c_attn): Conv1D()\n",
      "          (c_proj): Conv1D()\n",
      "          (attn_dropout): Dropout(p=0.1, inplace=False)\n",
      "          (resid_dropout): Dropout(p=0.1, inplace=False)\n",
      "        )\n",
      "        (ln_2): LayerNorm((768,), eps=1e-05, elementwise_affine=True)\n",
      "        (mlp): GPT2MLP(\n",
      "          (c_fc): Conv1D()\n",
      "          (c_proj): Conv1D()\n",
      "          (act): NewGELUActivation()\n",
      "          (dropout): Dropout(p=0.1, inplace=False)\n",
      "        )\n",
      "      )\n",
      "      (1): GPT2Block(\n",
      "        (ln_1): LayerNorm((768,), eps=1e-05, elementwise_affine=True)\n",
      "        (attn): GPT2Attention(\n",
      "          (c_attn): Conv1D()\n",
      "          (c_proj): Conv1D()\n",
      "          (attn_dropout): Dropout(p=0.1, inplace=False)\n",
      "          (resid_dropout): Dropout(p=0.1, inplace=False)\n",
      "        )\n",
      "        (ln_2): LayerNorm((768,), eps=1e-05, elementwise_affine=True)\n",
      "        (mlp): GPT2MLP(\n",
      "          (c_fc): Conv1D()\n",
      "          (c_proj): Conv1D()\n",
      "          (act): NewGELUActivation()\n",
      "          (dropout): Dropout(p=0.1, inplace=False)\n",
      "        )\n",
      "      )\n",
      "      (2): GPT2Block(\n",
      "        (ln_1): LayerNorm((768,), eps=1e-05, elementwise_affine=True)\n",
      "        (attn): GPT2Attention(\n",
      "          (c_attn): Conv1D()\n",
      "          (c_proj): Conv1D()\n",
      "          (attn_dropout): Dropout(p=0.1, inplace=False)\n",
      "          (resid_dropout): Dropout(p=0.1, inplace=False)\n",
      "        )\n",
      "        (ln_2): LayerNorm((768,), eps=1e-05, elementwise_affine=True)\n",
      "        (mlp): GPT2MLP(\n",
      "          (c_fc): Conv1D()\n",
      "          (c_proj): Conv1D()\n",
      "          (act): NewGELUActivation()\n",
      "          (dropout): Dropout(p=0.1, inplace=False)\n",
      "        )\n",
      "      )\n",
      "      (3): GPT2Block(\n",
      "        (ln_1): LayerNorm((768,), eps=1e-05, elementwise_affine=True)\n",
      "        (attn): GPT2Attention(\n",
      "          (c_attn): Conv1D()\n",
      "          (c_proj): Conv1D()\n",
      "          (attn_dropout): Dropout(p=0.1, inplace=False)\n",
      "          (resid_dropout): Dropout(p=0.1, inplace=False)\n",
      "        )\n",
      "        (ln_2): LayerNorm((768,), eps=1e-05, elementwise_affine=True)\n",
      "        (mlp): GPT2MLP(\n",
      "          (c_fc): Conv1D()\n",
      "          (c_proj): Conv1D()\n",
      "          (act): NewGELUActivation()\n",
      "          (dropout): Dropout(p=0.1, inplace=False)\n",
      "        )\n",
      "      )\n",
      "      (4): GPT2Block(\n",
      "        (ln_1): LayerNorm((768,), eps=1e-05, elementwise_affine=True)\n",
      "        (attn): GPT2Attention(\n",
      "          (c_attn): Conv1D()\n",
      "          (c_proj): Conv1D()\n",
      "          (attn_dropout): Dropout(p=0.1, inplace=False)\n",
      "          (resid_dropout): Dropout(p=0.1, inplace=False)\n",
      "        )\n",
      "        (ln_2): LayerNorm((768,), eps=1e-05, elementwise_affine=True)\n",
      "        (mlp): GPT2MLP(\n",
      "          (c_fc): Conv1D()\n",
      "          (c_proj): Conv1D()\n",
      "          (act): NewGELUActivation()\n",
      "          (dropout): Dropout(p=0.1, inplace=False)\n",
      "        )\n",
      "      )\n",
      "      (5): GPT2Block(\n",
      "        (ln_1): LayerNorm((768,), eps=1e-05, elementwise_affine=True)\n",
      "        (attn): GPT2Attention(\n",
      "          (c_attn): Conv1D()\n",
      "          (c_proj): Conv1D()\n",
      "          (attn_dropout): Dropout(p=0.1, inplace=False)\n",
      "          (resid_dropout): Dropout(p=0.1, inplace=False)\n",
      "        )\n",
      "        (ln_2): LayerNorm((768,), eps=1e-05, elementwise_affine=True)\n",
      "        (mlp): GPT2MLP(\n",
      "          (c_fc): Conv1D()\n",
      "          (c_proj): Conv1D()\n",
      "          (act): NewGELUActivation()\n",
      "          (dropout): Dropout(p=0.1, inplace=False)\n",
      "        )\n",
      "      )\n",
      "    )\n",
      "    (ln_f): LayerNorm((768,), eps=1e-05, elementwise_affine=True)\n",
      "  )\n",
      "  (lm_head): Linear(in_features=768, out_features=50257, bias=False)\n",
      ")\n"
     ]
    }
   ],
   "source": [
    "print(model.basemodel)"
   ],
   "metadata": {
    "collapsed": false
   }
  },
  {
   "cell_type": "markdown",
   "source": [
    "By creating new artificial subject models, we can test each block separately (note that here we choose to test the first LayerNorm `ln_1` for each block, but you can specify other modules):"
   ],
   "metadata": {
    "collapsed": false
   }
  },
  {
   "cell_type": "code",
   "execution_count": 3,
   "outputs": [
    {
     "name": "stderr",
     "output_type": "stream",
     "text": [
      "layers:   0%|                                                               | 0/6 [00:00<?, ?it/s]\n",
      "cross-validation:   0%|                                                    | 0/10 [00:00<?, ?it/s]\u001B[A\n",
      "cross-validation:  10%|████▍                                       | 1/10 [00:09<01:25,  9.52s/it]\u001B[A\n",
      "cross-validation:  20%|████████▊                                   | 2/10 [00:19<01:17,  9.67s/it]\u001B[A\n",
      "cross-validation:  30%|█████████████▏                              | 3/10 [00:29<01:08,  9.75s/it]\u001B[A\n",
      "cross-validation:  40%|█████████████████▌                          | 4/10 [00:39<00:59,  9.92s/it]\u001B[A\n",
      "cross-validation:  50%|██████████████████████                      | 5/10 [00:49<00:50, 10.10s/it]\u001B[A\n",
      "cross-validation:  60%|██████████████████████████▍                 | 6/10 [00:59<00:39,  9.94s/it]\u001B[A\n",
      "cross-validation:  70%|██████████████████████████████▊             | 7/10 [01:09<00:29,  9.93s/it]\u001B[A\n",
      "cross-validation:  80%|███████████████████████████████████▏        | 8/10 [01:19<00:19,  9.97s/it]\u001B[A\n",
      "cross-validation:  90%|███████████████████████████████████████▌    | 9/10 [01:29<00:09,  9.94s/it]\u001B[A\n",
      "cross-validation: 100%|███████████████████████████████████████████| 10/10 [01:39<00:00,  9.99s/it]\u001B[A\n",
      "layers:  17%|█████████                                             | 1/6 [02:03<10:16, 123.28s/it]\n",
      "cross-validation:   0%|                                                    | 0/10 [00:00<?, ?it/s]\u001B[A\n",
      "cross-validation:  10%|████▍                                       | 1/10 [00:10<01:34, 10.49s/it]\u001B[A\n",
      "cross-validation:  20%|████████▊                                   | 2/10 [00:21<01:26, 10.84s/it]\u001B[A\n",
      "cross-validation:  30%|█████████████▏                              | 3/10 [00:32<01:16, 10.95s/it]\u001B[A\n",
      "cross-validation:  40%|█████████████████▌                          | 4/10 [00:42<01:03, 10.65s/it]\u001B[A\n",
      "cross-validation:  50%|██████████████████████                      | 5/10 [00:52<00:52, 10.45s/it]\u001B[A\n",
      "cross-validation:  60%|██████████████████████████▍                 | 6/10 [01:03<00:42, 10.63s/it]\u001B[A\n",
      "cross-validation:  70%|██████████████████████████████▊             | 7/10 [01:15<00:32, 10.78s/it]\u001B[A\n",
      "cross-validation:  80%|███████████████████████████████████▏        | 8/10 [01:25<00:21, 10.74s/it]\u001B[A\n",
      "cross-validation:  90%|███████████████████████████████████████▌    | 9/10 [01:36<00:10, 10.78s/it]\u001B[A\n",
      "cross-validation: 100%|███████████████████████████████████████████| 10/10 [01:46<00:00, 10.67s/it]\u001B[A\n",
      "layers:  33%|██████████████████                                    | 2/6 [04:12<08:26, 126.67s/it]\n",
      "cross-validation:   0%|                                                    | 0/10 [00:00<?, ?it/s]\u001B[A\n",
      "cross-validation:  10%|████▍                                       | 1/10 [00:10<01:35, 10.59s/it]\u001B[A\n",
      "cross-validation:  20%|████████▊                                   | 2/10 [00:20<01:22, 10.36s/it]\u001B[A\n",
      "cross-validation:  30%|█████████████▏                              | 3/10 [00:31<01:12, 10.41s/it]\u001B[A\n",
      "cross-validation:  40%|█████████████████▌                          | 4/10 [00:41<01:01, 10.28s/it]\u001B[A\n",
      "cross-validation:  50%|██████████████████████                      | 5/10 [00:51<00:51, 10.39s/it]\u001B[A\n",
      "cross-validation:  60%|██████████████████████████▍                 | 6/10 [01:02<00:41, 10.37s/it]\u001B[A\n",
      "cross-validation:  70%|██████████████████████████████▊             | 7/10 [01:12<00:30, 10.29s/it]\u001B[A\n",
      "cross-validation:  80%|███████████████████████████████████▏        | 8/10 [01:23<00:20, 10.45s/it]\u001B[A\n",
      "cross-validation:  90%|███████████████████████████████████████▌    | 9/10 [01:33<00:10, 10.44s/it]\u001B[A\n",
      "cross-validation: 100%|███████████████████████████████████████████| 10/10 [01:43<00:00, 10.37s/it]\u001B[A\n",
      "layers:  50%|███████████████████████████                           | 3/6 [06:20<06:21, 127.15s/it]\n",
      "cross-validation:   0%|                                                    | 0/10 [00:00<?, ?it/s]\u001B[A\n",
      "cross-validation:  10%|████▍                                       | 1/10 [00:10<01:36, 10.76s/it]\u001B[A\n",
      "cross-validation:  20%|████████▊                                   | 2/10 [00:21<01:25, 10.65s/it]\u001B[A\n",
      "cross-validation:  30%|█████████████▏                              | 3/10 [00:31<01:13, 10.55s/it]\u001B[A\n",
      "cross-validation:  40%|█████████████████▌                          | 4/10 [00:41<01:02, 10.40s/it]\u001B[A\n",
      "cross-validation:  50%|██████████████████████                      | 5/10 [00:52<00:52, 10.50s/it]\u001B[A\n",
      "cross-validation:  60%|██████████████████████████▍                 | 6/10 [01:02<00:41, 10.36s/it]\u001B[A\n",
      "cross-validation:  70%|██████████████████████████████▊             | 7/10 [01:13<00:31, 10.40s/it]\u001B[A\n",
      "cross-validation:  80%|███████████████████████████████████▏        | 8/10 [01:23<00:20, 10.45s/it]\u001B[A\n",
      "cross-validation:  90%|███████████████████████████████████████▌    | 9/10 [01:33<00:10, 10.34s/it]\u001B[A\n",
      "cross-validation: 100%|███████████████████████████████████████████| 10/10 [01:44<00:00, 10.46s/it]\u001B[A\n",
      "layers:  67%|████████████████████████████████████                  | 4/6 [08:26<04:13, 126.91s/it]\n",
      "cross-validation:   0%|                                                    | 0/10 [00:00<?, ?it/s]\u001B[A\n",
      "cross-validation:  10%|████▍                                       | 1/10 [00:11<01:40, 11.11s/it]\u001B[A\n",
      "cross-validation:  20%|████████▊                                   | 2/10 [00:22<01:29, 11.17s/it]\u001B[A\n",
      "cross-validation:  30%|█████████████▏                              | 3/10 [00:32<01:14, 10.65s/it]\u001B[A\n",
      "cross-validation:  40%|█████████████████▌                          | 4/10 [00:42<01:03, 10.62s/it]\u001B[A\n",
      "cross-validation:  50%|██████████████████████                      | 5/10 [00:52<00:51, 10.38s/it]\u001B[A\n",
      "cross-validation:  60%|██████████████████████████▍                 | 6/10 [01:03<00:42, 10.52s/it]\u001B[A\n",
      "cross-validation:  70%|██████████████████████████████▊             | 7/10 [01:13<00:31, 10.43s/it]\u001B[A\n",
      "cross-validation:  80%|███████████████████████████████████▏        | 8/10 [01:24<00:20, 10.48s/it]\u001B[A\n",
      "cross-validation:  90%|███████████████████████████████████████▌    | 9/10 [01:35<00:10, 10.59s/it]\u001B[A\n",
      "cross-validation: 100%|███████████████████████████████████████████| 10/10 [01:46<00:00, 10.64s/it]\u001B[A\n",
      "layers:  83%|█████████████████████████████████████████████         | 5/6 [10:35<02:07, 127.70s/it]\n",
      "cross-validation:   0%|                                                    | 0/10 [00:00<?, ?it/s]\u001B[A\n",
      "cross-validation:  10%|████▍                                       | 1/10 [00:10<01:37, 10.82s/it]\u001B[A\n",
      "cross-validation:  20%|████████▊                                   | 2/10 [00:21<01:24, 10.57s/it]\u001B[A\n",
      "cross-validation:  30%|█████████████▏                              | 3/10 [00:32<01:14, 10.71s/it]\u001B[A\n",
      "cross-validation:  40%|█████████████████▌                          | 4/10 [00:42<01:03, 10.66s/it]\u001B[A\n",
      "cross-validation:  50%|██████████████████████                      | 5/10 [00:53<00:54, 10.85s/it]\u001B[A\n",
      "cross-validation:  60%|██████████████████████████▍                 | 6/10 [01:04<00:43, 10.87s/it]\u001B[A\n",
      "cross-validation:  70%|██████████████████████████████▊             | 7/10 [01:15<00:32, 10.87s/it]\u001B[A\n",
      "cross-validation:  80%|███████████████████████████████████▏        | 8/10 [01:25<00:21, 10.65s/it]\u001B[A\n",
      "cross-validation:  90%|███████████████████████████████████████▌    | 9/10 [01:36<00:10, 10.69s/it]\u001B[A\n",
      "cross-validation: 100%|███████████████████████████████████████████| 10/10 [01:47<00:00, 10.73s/it]\u001B[A\n",
      "layers: 100%|██████████████████████████████████████████████████████| 6/6 [12:45<00:00, 127.59s/it]\n"
     ]
    },
    {
     "name": "stdout",
     "output_type": "stream",
     "text": [
      "<xarray.Score (layer: 6)>\n",
      "array([-0.00568983,  0.52647388,  0.61040133,  0.56217193,  0.65805394,\n",
      "        0.76168756])\n",
      "Coordinates:\n",
      "  * layer    (layer) <U20 'transformer.h.0.ln_1' ... 'transformer.h.5.ln_1'\n",
      "Attributes:\n",
      "    raw:      <xarray.Score (layer: 1)>\\narray([-0.002013])\\nCoordinates:\\n  ...\n",
      "    ceiling:  <xarray.Score 'data' ()>\\narray(0.35378928)\\nAttributes:\\n    e...\n"
     ]
    }
   ],
   "source": [
    "from tqdm import tqdm\n",
    "from brainio.assemblies import merge_data_arrays\n",
    "from brainscore_language import load_benchmark\n",
    "\n",
    "benchmark = load_benchmark('Pereira2018.243sentences-linear')\n",
    "\n",
    "layer_scores = []\n",
    "for layer in tqdm([f'transformer.h.{block}.ln_1' for block in range(6)], desc='layers'):\n",
    "    layer_model = HuggingfaceSubject(model_id='distilgpt2', region_layer_mapping={\n",
    "        ArtificialSubject.RecordingTarget.language_system: layer})\n",
    "    layer_score = benchmark(layer_model)\n",
    "    # package for xarray\n",
    "    layer_score = layer_score.expand_dims('layer')\n",
    "    layer_score['layer'] = [layer]\n",
    "    layer_scores.append(layer_score)\n",
    "layer_scores = merge_data_arrays(layer_scores)\n",
    "print(layer_scores)"
   ],
   "metadata": {
    "collapsed": false
   }
  },
  {
   "cell_type": "code",
   "execution_count": 4,
   "outputs": [
    {
     "data": {
      "text/plain": "<Figure size 640x480 with 1 Axes>",
      "image/png": "[encoded data removed]"
     },
     "metadata": {},
     "output_type": "display_data"
    }
   ],
   "source": [
    "import numpy as np\n",
    "from matplotlib import pyplot\n",
    "\n",
    "fig, ax = pyplot.subplots()\n",
    "x = np.arange(len(layer_scores))\n",
    "ax.scatter(x, layer_scores)\n",
    "ax.set_xticks(x)\n",
    "ax.set_xticklabels(layer_scores['layer'].values, rotation=90)\n",
    "ax.set_ylabel('score')\n",
    "fig.show()"
   ],
   "metadata": {
    "collapsed": false
   }
  }
 ],
 "metadata": {
  "kernelspec": {
   "display_name": "Python 3",
   "language": "python",
   "name": "python3"
  },
  "language_info": {
   "codemirror_mode": {
    "name": "ipython",
    "version": 2
   },
   "file_extension": ".py",
   "mimetype": "text/x-python",
   "name": "python",
   "nbconvert_exporter": "python",
   "pygments_lexer": "ipython2",
   "version": "2.7.6"
  }
 },
 "nbformat": 4,
 "nbformat_minor": 0
}
