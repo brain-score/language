{
 "cells": [
  {
   "cell_type": "markdown",
   "source": [
    "All the existing models in Brain-Score have their layers committed to certain cortical regions, e.g. such that the output of block 42 in a transformer corresponds to neural activity in the human language system.\n",
    "\n",
    "In some cases, testing individual layers of a base model is desirable, e.g. in exploratory analyses of hierarchical correspondences, or to commit layers of a new model to cortical regions.\n",
    "Note however, that ultimately all models submitted to Brain-Score must declare neural commitments, so that always the same model units are used to compare against a particular cortical brain region.\n"
   ],
   "metadata": {
    "collapsed": false
   }
  },
  {
   "cell_type": "markdown",
   "source": [
    "This example uses the HuggingfaceSubject wrapper which allows us to easily access base models, and allows to specify a mapping of regions to layers in the constructor.\n",
    "\n",
    "Let's first create a model without a layer commitment:"
   ],
   "metadata": {
    "collapsed": false
   }
  },
  {
   "cell_type": "code",
   "execution_count": 1,
   "outputs": [],
   "source": [
    "from brainscore_language.model_helpers.huggingface import HuggingfaceSubject\n",
    "from brainscore_language import ArtificialSubject\n",
    "\n",
    "model = HuggingfaceSubject(model_id='distilgpt2', region_layer_mapping={})"
   ],
   "metadata": {
    "collapsed": false
   }
  },
  {
   "cell_type": "markdown",
   "source": [
    "The `distilgpt2` model consists of 6 transformer blocks:"
   ],
   "metadata": {
    "collapsed": false
   }
  },
  {
   "cell_type": "code",
   "execution_count": 2,
   "outputs": [
    {
     "name": "stdout",
     "output_type": "stream",
     "text": [
      "GPT2LMHeadModel(\n",
      "  (transformer): GPT2Model(\n",
      "    (wte): Embedding(50257, 768)\n",
      "    (wpe): Embedding(1024, 768)\n",
      "    (drop): Dropout(p=0.1, inplace=False)\n",
      "    (h): ModuleList(\n",
      "      (0): GPT2Block(\n",
      "        (ln_1): LayerNorm((768,), eps=1e-05, elementwise_affine=True)\n",
      "        (attn): GPT2Attention(\n",
      "          (c_attn): Conv1D()\n",
      "          (c_proj): Conv1D()\n",
      "          (attn_dropout): Dropout(p=0.1, inplace=False)\n",
      "          (resid_dropout): Dropout(p=0.1, inplace=False)\n",
      "        )\n",
      "        (ln_2): LayerNorm((768,), eps=1e-05, elementwise_affine=True)\n",
      "        (mlp): GPT2MLP(\n",
      "          (c_fc): Conv1D()\n",
      "          (c_proj): Conv1D()\n",
      "          (act): NewGELUActivation()\n",
      "          (dropout): Dropout(p=0.1, inplace=False)\n",
      "        )\n",
      "      )\n",
      "      (1): GPT2Block(\n",
      "        (ln_1): LayerNorm((768,), eps=1e-05, elementwise_affine=True)\n",
      "        (attn): GPT2Attention(\n",
      "          (c_attn): Conv1D()\n",
      "          (c_proj): Conv1D()\n",
      "          (attn_dropout): Dropout(p=0.1, inplace=False)\n",
      "          (resid_dropout): Dropout(p=0.1, inplace=False)\n",
      "        )\n",
      "        (ln_2): LayerNorm((768,), eps=1e-05, elementwise_affine=True)\n",
      "        (mlp): GPT2MLP(\n",
      "          (c_fc): Conv1D()\n",
      "          (c_proj): Conv1D()\n",
      "          (act): NewGELUActivation()\n",
      "          (dropout): Dropout(p=0.1, inplace=False)\n",
      "        )\n",
      "      )\n",
      "      (2): GPT2Block(\n",
      "        (ln_1): LayerNorm((768,), eps=1e-05, elementwise_affine=True)\n",
      "        (attn): GPT2Attention(\n",
      "          (c_attn): Conv1D()\n",
      "          (c_proj): Conv1D()\n",
      "          (attn_dropout): Dropout(p=0.1, inplace=False)\n",
      "          (resid_dropout): Dropout(p=0.1, inplace=False)\n",
      "        )\n",
      "        (ln_2): LayerNorm((768,), eps=1e-05, elementwise_affine=True)\n",
      "        (mlp): GPT2MLP(\n",
      "          (c_fc): Conv1D()\n",
      "          (c_proj): Conv1D()\n",
      "          (act): NewGELUActivation()\n",
      "          (dropout): Dropout(p=0.1, inplace=False)\n",
      "        )\n",
      "      )\n",
      "      (3): GPT2Block(\n",
      "        (ln_1): LayerNorm((768,), eps=1e-05, elementwise_affine=True)\n",
      "        (attn): GPT2Attention(\n",
      "          (c_attn): Conv1D()\n",
      "          (c_proj): Conv1D()\n",
      "          (attn_dropout): Dropout(p=0.1, inplace=False)\n",
      "          (resid_dropout): Dropout(p=0.1, inplace=False)\n",
      "        )\n",
      "        (ln_2): LayerNorm((768,), eps=1e-05, elementwise_affine=True)\n",
      "        (mlp): GPT2MLP(\n",
      "          (c_fc): Conv1D()\n",
      "          (c_proj): Conv1D()\n",
      "          (act): NewGELUActivation()\n",
      "          (dropout): Dropout(p=0.1, inplace=False)\n",
      "        )\n",
      "      )\n",
      "      (4): GPT2Block(\n",
      "        (ln_1): LayerNorm((768,), eps=1e-05, elementwise_affine=True)\n",
      "        (attn): GPT2Attention(\n",
      "          (c_attn): Conv1D()\n",
      "          (c_proj): Conv1D()\n",
      "          (attn_dropout): Dropout(p=0.1, inplace=False)\n",
      "          (resid_dropout): Dropout(p=0.1, inplace=False)\n",
      "        )\n",
      "        (ln_2): LayerNorm((768,), eps=1e-05, elementwise_affine=True)\n",
      "        (mlp): GPT2MLP(\n",
      "          (c_fc): Conv1D()\n",
      "          (c_proj): Conv1D()\n",
      "          (act): NewGELUActivation()\n",
      "          (dropout): Dropout(p=0.1, inplace=False)\n",
      "        )\n",
      "      )\n",
      "      (5): GPT2Block(\n",
      "        (ln_1): LayerNorm((768,), eps=1e-05, elementwise_affine=True)\n",
      "        (attn): GPT2Attention(\n",
      "          (c_attn): Conv1D()\n",
      "          (c_proj): Conv1D()\n",
      "          (attn_dropout): Dropout(p=0.1, inplace=False)\n",
      "          (resid_dropout): Dropout(p=0.1, inplace=False)\n",
      "        )\n",
      "        (ln_2): LayerNorm((768,), eps=1e-05, elementwise_affine=True)\n",
      "        (mlp): GPT2MLP(\n",
      "          (c_fc): Conv1D()\n",
      "          (c_proj): Conv1D()\n",
      "          (act): NewGELUActivation()\n",
      "          (dropout): Dropout(p=0.1, inplace=False)\n",
      "        )\n",
      "      )\n",
      "    )\n",
      "    (ln_f): LayerNorm((768,), eps=1e-05, elementwise_affine=True)\n",
      "  )\n",
      "  (lm_head): Linear(in_features=768, out_features=50257, bias=False)\n",
      ")\n"
     ]
    }
   ],
   "source": [
    "print(model.basemodel)"
   ],
   "metadata": {
    "collapsed": false
   }
  },
  {
   "cell_type": "markdown",
   "source": [
    "By creating new artificial subject models, we can test each block separately (note that here we choose to test the first LayerNorm `ln_1` for each block, but you can specify other modules):"
   ],
   "metadata": {
    "collapsed": false
   }
  },
  {
   "cell_type": "code",
   "execution_count": 3,
   "outputs": [
    {
     "name": "stderr",
     "output_type": "stream",
     "text": [
      "layers:   0%|                                                               | 0/6 [00:00<?, ?it/s]\n",
      "cross-validation:   0%|                                                    | 0/10 [00:00<?, ?it/s]\u001B[A\n",
      "cross-validation:  10%|████▍                                       | 1/10 [00:10<01:30, 10.01s/it]\u001B[A\n",
      "cross-validation:  20%|████████▊                                   | 2/10 [00:20<01:21, 10.13s/it]\u001B[A\n",
      "cross-validation:  30%|█████████████▏                              | 3/10 [00:30<01:11, 10.21s/it]\u001B[A\n",
      "cross-validation:  40%|█████████████████▌                          | 4/10 [00:41<01:02, 10.34s/it]\u001B[A\n",
      "cross-validation:  50%|██████████████████████                      | 5/10 [00:51<00:52, 10.49s/it]\u001B[A\n",
      "cross-validation:  60%|██████████████████████████▍                 | 6/10 [01:02<00:41, 10.45s/it]\u001B[A\n",
      "cross-validation:  70%|██████████████████████████████▊             | 7/10 [01:13<00:32, 10.69s/it]\u001B[A\n",
      "cross-validation:  80%|███████████████████████████████████▏        | 8/10 [01:23<00:21, 10.61s/it]\u001B[A\n",
      "cross-validation:  90%|███████████████████████████████████████▌    | 9/10 [01:34<00:10, 10.50s/it]\u001B[A\n",
      "cross-validation: 100%|███████████████████████████████████████████| 10/10 [01:44<00:00, 10.45s/it]\u001B[A\n",
      "layers:  17%|█████████                                             | 1/6 [03:53<19:28, 233.75s/it]\n",
      "cross-validation:   0%|                                                    | 0/10 [00:00<?, ?it/s]\u001B[A\n",
      "cross-validation:  10%|████▍                                       | 1/10 [00:11<01:39, 11.03s/it]\u001B[A\n",
      "cross-validation:  20%|████████▊                                   | 2/10 [00:21<01:27, 10.92s/it]\u001B[A\n",
      "cross-validation:  30%|█████████████▏                              | 3/10 [00:32<01:16, 10.92s/it]\u001B[A\n",
      "cross-validation:  40%|█████████████████▌                          | 4/10 [00:43<01:05, 10.93s/it]\u001B[A\n",
      "cross-validation:  50%|██████████████████████                      | 5/10 [00:54<00:54, 10.97s/it]\u001B[A\n",
      "cross-validation:  60%|██████████████████████████▍                 | 6/10 [01:05<00:44, 11.01s/it]\u001B[A\n",
      "cross-validation:  70%|██████████████████████████████▊             | 7/10 [01:17<00:33, 11.19s/it]\u001B[A\n",
      "cross-validation:  80%|███████████████████████████████████▏        | 8/10 [01:28<00:22, 11.14s/it]\u001B[A\n",
      "cross-validation:  90%|███████████████████████████████████████▌    | 9/10 [01:39<00:11, 11.19s/it]\u001B[A\n",
      "cross-validation: 100%|███████████████████████████████████████████| 10/10 [01:51<00:00, 11.16s/it]\u001B[A\n",
      "layers:  33%|██████████████████                                    | 2/6 [07:55<15:54, 238.72s/it]\n",
      "cross-validation:   0%|                                                    | 0/10 [00:00<?, ?it/s]\u001B[A\n",
      "cross-validation:  10%|████▍                                       | 1/10 [00:10<01:36, 10.76s/it]\u001B[A\n",
      "cross-validation:  20%|████████▊                                   | 2/10 [00:21<01:27, 10.90s/it]\u001B[A\n",
      "cross-validation:  30%|█████████████▏                              | 3/10 [00:32<01:15, 10.83s/it]\u001B[A\n",
      "cross-validation:  40%|█████████████████▌                          | 4/10 [00:43<01:04, 10.76s/it]\u001B[A\n",
      "cross-validation:  50%|██████████████████████                      | 5/10 [00:53<00:53, 10.78s/it]\u001B[A\n",
      "cross-validation:  60%|██████████████████████████▍                 | 6/10 [01:04<00:42, 10.67s/it]\u001B[A\n",
      "cross-validation:  70%|██████████████████████████████▊             | 7/10 [01:15<00:32, 10.80s/it]\u001B[A\n",
      "cross-validation:  80%|███████████████████████████████████▏        | 8/10 [01:26<00:21, 10.77s/it]\u001B[A\n",
      "cross-validation:  90%|███████████████████████████████████████▌    | 9/10 [01:36<00:10, 10.76s/it]\u001B[A\n",
      "cross-validation: 100%|███████████████████████████████████████████| 10/10 [01:47<00:00, 10.79s/it]\u001B[A\n",
      "layers:  50%|███████████████████████████                           | 3/6 [11:51<11:51, 237.26s/it]\n",
      "cross-validation:   0%|                                                    | 0/10 [00:00<?, ?it/s]\u001B[A\n",
      "cross-validation:  10%|████▍                                       | 1/10 [00:11<01:41, 11.26s/it]\u001B[A\n",
      "cross-validation:  20%|████████▊                                   | 2/10 [00:21<01:25, 10.74s/it]\u001B[A\n",
      "cross-validation:  30%|█████████████▏                              | 3/10 [00:32<01:15, 10.75s/it]\u001B[A\n",
      "cross-validation:  40%|█████████████████▌                          | 4/10 [00:43<01:05, 10.86s/it]\u001B[A\n",
      "cross-validation:  50%|██████████████████████                      | 5/10 [00:54<00:54, 10.82s/it]\u001B[A\n",
      "cross-validation:  60%|██████████████████████████▍                 | 6/10 [01:05<00:43, 10.86s/it]\u001B[A\n",
      "cross-validation:  70%|██████████████████████████████▊             | 7/10 [01:16<00:32, 10.96s/it]\u001B[A\n",
      "cross-validation:  80%|███████████████████████████████████▏        | 8/10 [01:27<00:22, 11.00s/it]\u001B[A\n",
      "cross-validation:  90%|███████████████████████████████████████▌    | 9/10 [01:38<00:10, 10.95s/it]\u001B[A\n",
      "cross-validation: 100%|███████████████████████████████████████████| 10/10 [01:48<00:00, 10.89s/it]\u001B[A\n",
      "layers:  67%|████████████████████████████████████                  | 4/6 [15:35<07:43, 231.87s/it]\n",
      "cross-validation:   0%|                                                    | 0/10 [00:00<?, ?it/s]\u001B[A\n",
      "cross-validation:  10%|████▍                                       | 1/10 [00:10<01:38, 10.89s/it]\u001B[A\n",
      "cross-validation:  20%|████████▊                                   | 2/10 [00:21<01:25, 10.74s/it]\u001B[A\n",
      "cross-validation:  30%|█████████████▏                              | 3/10 [00:32<01:16, 10.96s/it]\u001B[A\n",
      "cross-validation:  40%|█████████████████▌                          | 4/10 [00:43<01:05, 10.87s/it]\u001B[A\n",
      "cross-validation:  50%|██████████████████████                      | 5/10 [00:54<00:54, 10.85s/it]\u001B[A\n",
      "cross-validation:  60%|██████████████████████████▍                 | 6/10 [01:05<00:43, 10.92s/it]\u001B[A\n",
      "cross-validation:  70%|██████████████████████████████▊             | 7/10 [01:16<00:32, 10.91s/it]\u001B[A\n",
      "cross-validation:  80%|███████████████████████████████████▏        | 8/10 [01:27<00:21, 10.86s/it]\u001B[A\n",
      "cross-validation:  90%|███████████████████████████████████████▌    | 9/10 [01:37<00:10, 10.84s/it]\u001B[A\n",
      "cross-validation: 100%|███████████████████████████████████████████| 10/10 [01:48<00:00, 10.88s/it]\u001B[A\n",
      "layers:  83%|█████████████████████████████████████████████         | 5/6 [19:15<03:47, 227.81s/it]\n",
      "cross-validation:   0%|                                                    | 0/10 [00:00<?, ?it/s]\u001B[A\n",
      "cross-validation:  10%|████▍                                       | 1/10 [00:10<01:35, 10.59s/it]\u001B[A\n",
      "cross-validation:  20%|████████▊                                   | 2/10 [00:21<01:24, 10.54s/it]\u001B[A\n",
      "cross-validation:  30%|█████████████▏                              | 3/10 [00:32<01:15, 10.77s/it]\u001B[A\n",
      "cross-validation:  40%|█████████████████▌                          | 4/10 [00:43<01:05, 10.88s/it]\u001B[A\n",
      "cross-validation:  50%|██████████████████████                      | 5/10 [00:53<00:54, 10.85s/it]\u001B[A\n",
      "cross-validation:  60%|██████████████████████████▍                 | 6/10 [01:04<00:43, 10.81s/it]\u001B[A\n",
      "cross-validation:  70%|██████████████████████████████▊             | 7/10 [01:15<00:32, 10.86s/it]\u001B[A\n",
      "cross-validation:  80%|███████████████████████████████████▏        | 8/10 [01:26<00:21, 10.97s/it]\u001B[A\n",
      "cross-validation:  90%|███████████████████████████████████████▌    | 9/10 [01:37<00:10, 10.89s/it]\u001B[A\n",
      "cross-validation: 100%|███████████████████████████████████████████| 10/10 [01:48<00:00, 10.87s/it]\u001B[A\n",
      "layers: 100%|██████████████████████████████████████████████████████| 6/6 [22:58<00:00, 229.82s/it]"
     ]
    },
    {
     "name": "stdout",
     "output_type": "stream",
     "text": [
      "<xarray.Score (layer: 6)>\n",
      "array([0.11768127, 0.36386201, 0.49107396, 0.48109876, 0.63456412,\n",
      "       0.66867011])\n",
      "Coordinates:\n",
      "  * layer    (layer) <U20 'transformer.h.0.ln_1' ... 'transformer.h.5.ln_1'\n",
      "Attributes:\n",
      "    raw:      <xarray.Score (layer: 1)>\\narray([0.04163437])\\nCoordinates:\\n ...\n",
      "    ceiling:  <xarray.Score 'data' ()>\\narray(0.35378928)\\nAttributes:\\n    e...\n"
     ]
    },
    {
     "name": "stderr",
     "output_type": "stream",
     "text": [
      "\n"
     ]
    }
   ],
   "source": [
    "from tqdm import tqdm\n",
    "from brainio.assemblies import merge_data_arrays\n",
    "from brainscore_language import load_benchmark\n",
    "\n",
    "benchmark = load_benchmark('Pereira2018.243sentences-linear')\n",
    "\n",
    "layer_scores = []\n",
    "for layer in tqdm([f'transformer.h.{block}.ln_1' for block in range(6)], desc='layers'):\n",
    "    layer_model = HuggingfaceSubject(model_id='distilgpt2', region_layer_mapping={\n",
    "        ArtificialSubject.RecordingTarget.language_system: layer})\n",
    "    layer_score = benchmark(layer_model)\n",
    "    # package for xarray\n",
    "    layer_score = layer_score.expand_dims('layer')\n",
    "    layer_score['layer'] = [layer]\n",
    "    layer_scores.append(layer_score)\n",
    "layer_scores = merge_data_arrays(layer_scores)\n",
    "print(layer_scores)"
   ],
   "metadata": {
    "collapsed": false
   }
  },
  {
   "cell_type": "code",
   "execution_count": 5,
   "outputs": [
    {
     "data": {
      "text/plain": "<Figure size 640x480 with 1 Axes>",
      "image/png": "[encoded data removed]"
     },
     "metadata": {},
     "output_type": "display_data"
    }
   ],
   "source": [
    "import numpy as np\n",
    "from matplotlib import pyplot\n",
    "\n",
    "fig, ax = pyplot.subplots()\n",
    "x = np.arange(len(layer_scores))\n",
    "ax.scatter(x, layer_scores)\n",
    "ax.set_xticks(x)\n",
    "ax.set_xticklabels(layer_scores['layer'].values, rotation=90)\n",
    "ax.set_ylabel('score')\n",
    "fig.show()"
   ],
   "metadata": {
    "collapsed": false
   }
  }
 ],
 "metadata": {
  "kernelspec": {
   "display_name": "Python 3",
   "language": "python",
   "name": "python3"
  },
  "language_info": {
   "codemirror_mode": {
    "name": "ipython",
    "version": 2
   },
   "file_extension": ".py",
   "mimetype": "text/x-python",
   "name": "python",
   "nbconvert_exporter": "python",
   "pygments_lexer": "ipython2",
   "version": "2.7.6"
  }
 },
 "nbformat": 4,
 "nbformat_minor": 0
}
